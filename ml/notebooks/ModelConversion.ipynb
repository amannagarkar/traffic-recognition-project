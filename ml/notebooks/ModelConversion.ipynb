{
 "cells": [
  {
   "cell_type": "code",
   "execution_count": null,
   "metadata": {},
   "outputs": [],
   "source": [
    "# !pip3 install coremltools\n",
    "# !pip3 install keras"
   ]
  },
  {
   "cell_type": "code",
   "execution_count": null,
   "metadata": {},
   "outputs": [],
   "source": [
    "import coremltools as ct\n",
    "from tensorflow.keras.models import load_model\n",
    "\n",
    "# Load your .keras model\n",
    "model_path = \"/Users/amannagarkar/Documents/SCU Phd Coursework/AI - CSEN 266/GIT REPOS/traffic-recognition-project/ml/src/models/\"\n",
    "keras_model = load_model(model_path + \"TSModel.keras\")\n",
    "\n",
    "# Convert to Core ML\n",
    "coreml_model = ct.convert(keras_model)\n",
    "\n",
    "# Save the Core ML model\n",
    "coreml_model.save(model_path + \"TSLiteModel.mlmodel\")"
   ]
  },
  {
   "cell_type": "code",
   "execution_count": null,
   "metadata": {},
   "outputs": [],
   "source": []
  }
 ],
 "metadata": {
  "kernelspec": {
   "display_name": ".venv",
   "language": "python",
   "name": "python3"
  },
  "language_info": {
   "codemirror_mode": {
    "name": "ipython",
    "version": 3
   },
   "file_extension": ".py",
   "mimetype": "text/x-python",
   "name": "python",
   "nbconvert_exporter": "python",
   "pygments_lexer": "ipython3",
   "version": "3.13.2"
  }
 },
 "nbformat": 4,
 "nbformat_minor": 2
}
